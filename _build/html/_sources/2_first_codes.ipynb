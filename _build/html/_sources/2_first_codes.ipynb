{
 "cells": [
  {
   "cell_type": "markdown",
   "metadata": {},
   "source": [
    "# First codes\n",
    "\n",
    "## Variables and types\n",
    "A variable, in Julia, is a name associated (or bound) to a value. It's useful when you want to store a value (that you obtained after some math, for example) for later use. For example:\n"
   ]
  },
  {
   "cell_type": "code",
   "execution_count": 3,
   "metadata": {},
   "outputs": [
    {
     "data": {
      "text/plain": [
       "\"Hello World!\""
      ]
     },
     "metadata": {},
     "output_type": "display_data"
    }
   ],
   "source": [
    "# Assign the value 10 to the variable x\n",
    "x = 10\n",
    "\n",
    "# Doing math with x's value\n",
    "x + 1\n",
    "\n",
    "# Reassign x's value\n",
    "x = 1 + 1\n",
    "\n",
    "# You can assign values of other types, like strings of text\n",
    "x = \"Hello World!\""
   ]
  },
  {
   "cell_type": "code",
   "execution_count": 4,
   "metadata": {},
   "outputs": [
    {
     "name": "stdout",
     "output_type": "stream",
     "text": [
      "Hello World!\n"
     ]
    }
   ],
   "source": [
    "println(x)"
   ]
  },
  {
   "cell_type": "markdown",
   "metadata": {},
   "source": [
    "## Allowed Variable Names\n",
    "\n",
    "Para los nombres de variables pueden ocupar letras, número y símbolos. Deben tener cuidado con algunas excepciones que están reservadas, por ejemplo el número pi, o funciones específicas que no se pueden modificar o que no queremos modificar, por ejemplo if, else, while, sum, mean, etc. "
   ]
  },
  {
   "cell_type": "code",
   "execution_count": 6,
   "metadata": {},
   "outputs": [
    {
     "name": "stdout",
     "output_type": "stream",
     "text": [
      "(π, 10, 0.1, 5, 20)\n"
     ]
    }
   ],
   "source": [
    "🍎 = 10 \n",
    "α = 0.1 \n",
    "Δ = 5 \n",
    "🌵 = 20 \n",
    "\n",
    "println((π, 🍎, α, Δ, 🌵))"
   ]
  },
  {
   "cell_type": "markdown",
   "metadata": {},
   "source": [
    "## Stylistic Conventions\n",
    "\n",
    "As suggested by [Julia's recommendations](http://web.mit.edu/julia_v0.6.2/julia/share/doc/julia/html/en/manual/variables.html): \n",
    "\n",
    "While Julia imposes few restrictions on valid names, it has become useful to adopt the following conventions:\n",
    "\n",
    "- Names of variables are in lower case.\n",
    "\n",
    "- Word separation can be indicated by underscores ('_'), but use of underscores is discouraged unless the name would be hard to read otherwise.\n",
    "\n",
    "- Names of Types and Modules begin with a capital letter and word separation is shown with upper camel case instead of underscores.\n",
    "\n",
    "- Names of functions and macros are in lower case, without underscores.\n",
    "\n",
    "- Functions that write to their arguments have names that end in !. These are sometimes called \"mutating\" or \"in-place\" functions because they are intended to produce changes in their arguments after the function is called, not just return a value."
   ]
  },
  {
   "cell_type": "markdown",
   "metadata": {},
   "source": [
    "### Types\n",
    "\n",
    "`Types` will be a fundamental part of programming in Julia; they are flexible and will provide flexibility when programming and solving a problem.\n",
    "\n",
    "`Types` correspond to a category of values with specific characteristics. So far, we have seen two different types: integer and string.\n",
    "\n",
    "As the course progresses, we will introduce different `types`. The basic ones we will use include: `integers`, `floats`, `strings`, `arrays`, and `booleans`.\n",
    "\n",
    "To see what type a variable is, you can use the function `typeof(variable)`.\n"
   ]
  },
  {
   "cell_type": "code",
   "execution_count": 14,
   "metadata": {},
   "outputs": [
    {
     "name": "stdout",
     "output_type": "stream",
     "text": [
      "a: (10, Int64)\n",
      "b: (10.0, Float64)\n",
      "c: (\"Hello\", String)\n",
      "d: ([1, 2, 3], Vector{Int64})\n",
      "e: (true, Bool)\n",
      "f: ([10.0, 10.0], Vector{Float64})\n",
      "g: ([10.0, 10.0], Vector{Any})\n"
     ]
    }
   ],
   "source": [
    "a = 10 \n",
    "b = 10.0 \n",
    "c = \"Hello\"\n",
    "d = [1,2,3]\n",
    "e = true \n",
    "f = [a,b]\n",
    "g = [a,b,c]\n",
    "\n",
    "println(\"a: \", (a, typeof(a)))\n",
    "println(\"b: \", (b, typeof(b)))\n",
    "println(\"c: \", (c, typeof(c)))\n",
    "println(\"d: \", (d, typeof(d)))\n",
    "println(\"e: \", (e, typeof(e)))\n",
    "println(\"f: \", (f, typeof(f)))\n",
    "println(\"g: \", (f, typeof(g)))"
   ]
  },
  {
   "cell_type": "markdown",
   "metadata": {},
   "source": [
    "## Mathematical Operations\n",
    "- Standard mathematical operations\n",
    "- Arrays: Vectors and Matrices \n",
    "- Logical operations\n",
    "\n",
    "### Standard mathematical operations\n",
    "Basic mathematical operations:\n",
    "\n",
    "- Addition (+)\n",
    "- Subtraction (-)\n",
    "- Times (*)\n",
    "- Divide (/)\n",
    "- Inverse divide (\\ )\n",
    "- Power (^)\n",
    "- Remainder (%)"
   ]
  },
  {
   "cell_type": "code",
   "execution_count": 17,
   "metadata": {},
   "outputs": [
    {
     "name": "stdout",
     "output_type": "stream",
     "text": [
      "+: 20\n",
      "-: 0\n",
      "*: 100\n",
      "/: 1.0\n",
      "^: 10000000000\n",
      "% :0\n"
     ]
    }
   ],
   "source": [
    "a = 10 \n",
    "println(\"+: \", a+a)\n",
    "println(\"-: \", a-a)\n",
    "println(\"*: \", a*a)\n",
    "println(\"/: \", a/a)\n",
    "println(\"^: \", a^a)\n",
    "println(\"% :\", a%a)"
   ]
  },
  {
   "cell_type": "markdown",
   "metadata": {},
   "source": [
    "### Arrays: Vectors and Matrices \n",
    "https://docs.julialang.org/en/v1/manual/arrays/"
   ]
  },
  {
   "cell_type": "code",
   "execution_count": 18,
   "metadata": {},
   "outputs": [
    {
     "data": {
      "text/plain": [
       "3-element Vector{Int64}:\n",
       " 1\n",
       " 2\n",
       " 3"
      ]
     },
     "metadata": {},
     "output_type": "display_data"
    }
   ],
   "source": [
    "x = [1,2,3]"
   ]
  },
  {
   "cell_type": "code",
   "execution_count": 19,
   "metadata": {},
   "outputs": [
    {
     "data": {
      "text/plain": [
       "1×3 Matrix{Int64}:\n",
       " 1  2  3"
      ]
     },
     "metadata": {},
     "output_type": "display_data"
    }
   ],
   "source": [
    "x = [1 2 3]"
   ]
  },
  {
   "cell_type": "code",
   "execution_count": 21,
   "metadata": {},
   "outputs": [
    {
     "data": {
      "text/plain": [
       "5×5 Matrix{Float64}:\n",
       " 0.0  0.0  0.0  0.0  0.0\n",
       " 0.0  0.0  0.0  0.0  0.0\n",
       " 0.0  0.0  0.0  0.0  0.0\n",
       " 0.0  0.0  0.0  0.0  0.0\n",
       " 0.0  0.0  0.0  0.0  0.0"
      ]
     },
     "metadata": {},
     "output_type": "display_data"
    }
   ],
   "source": [
    "x = zeros(5,5)"
   ]
  },
  {
   "cell_type": "code",
   "execution_count": 29,
   "metadata": {},
   "outputs": [
    {
     "name": "stdout",
     "output_type": "stream",
     "text": [
      "x: [3.0 3.0 3.0; 3.0 3.0 3.0; 3.0 3.0 3.0]\n",
      "y: [1.0 1.0 1.0; 1.0 1.0 1.0; 1.0 1.0 1.0]\n",
      "z: [18.0, 18.0, 18.0]\n",
      "sum: 54.0\n"
     ]
    }
   ],
   "source": [
    "v = ones(3,3)\n",
    "w = [1,2,3]\n",
    "x = v*v\n",
    "y = v.*v\n",
    "z = x*w\n",
    "\n",
    "println(\"x: \", x)\n",
    "println(\"y: \", y)\n",
    "println(\"z: \", z)\n",
    "println(\"sum: \", sum(z))"
   ]
  },
  {
   "cell_type": "markdown",
   "metadata": {},
   "source": [
    "### Logical operations"
   ]
  },
  {
   "cell_type": "code",
   "execution_count": 30,
   "metadata": {},
   "outputs": [
    {
     "data": {
      "text/plain": [
       "true"
      ]
     },
     "metadata": {},
     "output_type": "display_data"
    }
   ],
   "source": [
    "1 == 1"
   ]
  },
  {
   "cell_type": "code",
   "execution_count": 31,
   "metadata": {},
   "outputs": [
    {
     "data": {
      "text/plain": [
       "true"
      ]
     },
     "metadata": {},
     "output_type": "display_data"
    }
   ],
   "source": [
    "true || false"
   ]
  },
  {
   "cell_type": "code",
   "execution_count": 32,
   "metadata": {},
   "outputs": [
    {
     "data": {
      "text/plain": [
       "false"
      ]
     },
     "metadata": {},
     "output_type": "display_data"
    }
   ],
   "source": [
    "true && false"
   ]
  },
  {
   "cell_type": "code",
   "execution_count": 2,
   "metadata": {},
   "outputs": [
    {
     "data": {
      "text/plain": [
       "true"
      ]
     },
     "metadata": {},
     "output_type": "display_data"
    }
   ],
   "source": [
    "x = 10\n",
    "y =  x < 20"
   ]
  },
  {
   "cell_type": "markdown",
   "metadata": {},
   "source": [
    "1. Create a variable xmin equal to 1 and a variable xmax equal to 100.\n",
    "2. Create a variable x that contains equidistant values from xmin to xmax.\n",
    "3. Check the type of x.\n",
    "4. Create a variable y that indicates whether each element in x is greater than 50. *Hint: It should be of type BitVector.*\n",
    "5. Create a variable z that divides each element of x by each element of y.\n",
    "6. Determine the maximum value of the vector z and find out which function can be used to obtain it.\n",
    "7. With the variables A = rand(3,3) and B = ones(3,3), test the operations * , ^, .* , -, inv(), det(), and the difference between / and \\ ."
   ]
  },
  {
   "cell_type": "markdown",
   "metadata": {},
   "source": []
  }
 ],
 "metadata": {
  "kernelspec": {
   "display_name": "Julia 1.9.4",
   "language": "julia",
   "name": "julia-1.9"
  },
  "language_info": {
   "file_extension": ".jl",
   "mimetype": "application/julia",
   "name": "julia",
   "version": "1.9.4"
  }
 },
 "nbformat": 4,
 "nbformat_minor": 2
}
