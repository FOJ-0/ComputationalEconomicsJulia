{
 "cells": [
  {
   "cell_type": "markdown",
   "metadata": {},
   "source": [
    "# Functions, conditionals, loops, and intro to numerica methods\n",
    "1. Functions \n",
    "2. Loops\n",
    "3. Conditionals\n",
    "4. Numerical methods"
   ]
  },
  {
   "cell_type": "markdown",
   "metadata": {},
   "source": [
    "## Functions\n"
   ]
  },
  {
   "cell_type": "code",
   "execution_count": 2,
   "metadata": {},
   "outputs": [
    {
     "data": {
      "text/plain": [
       "true"
      ]
     },
     "execution_count": 2,
     "metadata": {},
     "output_type": "execute_result"
    }
   ],
   "source": [
    "function f1(a, b)\n",
    "    return a * b\n",
    "end\n",
    "\n",
    "function f2(a, b)\n",
    "    a * b\n",
    "end\n",
    "\n",
    "a = 1; b = 2\n",
    "f1(a,b) ≈ f2(a,b) "
   ]
  },
  {
   "cell_type": "code",
   "execution_count": 4,
   "metadata": {},
   "outputs": [
    {
     "name": "stdout",
     "output_type": "stream",
     "text": [
      "  12.012 ns (0 allocations: 0 bytes)\n",
      "  11.912 ns (0 allocations: 0 bytes)\n"
     ]
    },
    {
     "data": {
      "text/plain": [
       "2"
      ]
     },
     "execution_count": 4,
     "metadata": {},
     "output_type": "execute_result"
    }
   ],
   "source": [
    "using BenchmarkTools\n",
    "@btime f1(a,b)\n",
    "@btime f2(a,b)"
   ]
  },
  {
   "cell_type": "code",
   "execution_count": 7,
   "metadata": {},
   "outputs": [
    {
     "ename": "LoadError",
     "evalue": "MethodError: no method matching *(::StepRangeLen{Float64, Base.TwicePrecision{Float64}, Base.TwicePrecision{Float64}, Int64}, ::Vector{Float64})\n\n\u001b[0mClosest candidates are:\n\u001b[0m  *(::Any, ::Any, \u001b[91m::Any\u001b[39m, \u001b[91m::Any...\u001b[39m)\n\u001b[0m\u001b[90m   @\u001b[39m \u001b[90mBase\u001b[39m \u001b[90m\u001b[4moperators.jl:587\u001b[24m\u001b[39m\n\u001b[0m  *(\u001b[91m::LinearAlgebra.LQ{TA, S, C} where {S<:AbstractMatrix{TA}, C<:AbstractVector{TA}}\u001b[39m, ::AbstractVecOrMat{TB}) where {TA, TB}\n\u001b[0m\u001b[90m   @\u001b[39m \u001b[32mLinearAlgebra\u001b[39m \u001b[90mC:\\Users\\felix\\AppData\\Local\\Programs\\Julia-1.10.0\\share\\julia\\stdlib\\v1.10\\LinearAlgebra\\src\\\u001b[39m\u001b[90m\u001b[4mlq.jl:167\u001b[24m\u001b[39m\n\u001b[0m  *(\u001b[91m::Number\u001b[39m, ::AbstractArray)\n\u001b[0m\u001b[90m   @\u001b[39m \u001b[90mBase\u001b[39m \u001b[90m\u001b[4marraymath.jl:21\u001b[24m\u001b[39m\n\u001b[0m  ...\n",
     "output_type": "error",
     "traceback": [
      "MethodError: no method matching *(::StepRangeLen{Float64, Base.TwicePrecision{Float64}, Base.TwicePrecision{Float64}, Int64}, ::Vector{Float64})\n\n\u001b[0mClosest candidates are:\n\u001b[0m  *(::Any, ::Any, \u001b[91m::Any\u001b[39m, \u001b[91m::Any...\u001b[39m)\n\u001b[0m\u001b[90m   @\u001b[39m \u001b[90mBase\u001b[39m \u001b[90m\u001b[4moperators.jl:587\u001b[24m\u001b[39m\n\u001b[0m  *(\u001b[91m::LinearAlgebra.LQ{TA, S, C} where {S<:AbstractMatrix{TA}, C<:AbstractVector{TA}}\u001b[39m, ::AbstractVecOrMat{TB}) where {TA, TB}\n\u001b[0m\u001b[90m   @\u001b[39m \u001b[32mLinearAlgebra\u001b[39m \u001b[90mC:\\Users\\felix\\AppData\\Local\\Programs\\Julia-1.10.0\\share\\julia\\stdlib\\v1.10\\LinearAlgebra\\src\\\u001b[39m\u001b[90m\u001b[4mlq.jl:167\u001b[24m\u001b[39m\n\u001b[0m  *(\u001b[91m::Number\u001b[39m, ::AbstractArray)\n\u001b[0m\u001b[90m   @\u001b[39m \u001b[90mBase\u001b[39m \u001b[90m\u001b[4marraymath.jl:21\u001b[24m\u001b[39m\n\u001b[0m  ...\n",
      "",
      "Stacktrace:",
      " [1] f1(a::StepRangeLen{Float64, Base.TwicePrecision{Float64}, Base.TwicePrecision{Float64}, Int64}, b::Vector{Float64})",
      "   @ Main .\\In[2]:2",
      " [2] top-level scope",
      "   @ In[7]:5"
     ]
    }
   ],
   "source": [
    "N = 100\n",
    "a = range(0,100, N)\n",
    "b = randn(N)\n",
    "\n",
    "c = f1(a,b) #Error"
   ]
  },
  {
   "cell_type": "code",
   "execution_count": 10,
   "metadata": {},
   "outputs": [
    {
     "name": "stdout",
     "output_type": "stream",
     "text": [
      "  154.375 ns (1 allocation: 896 bytes)\n"
     ]
    }
   ],
   "source": [
    "function f1(a, b)\n",
    "    return a .* b\n",
    "end\n",
    "\n",
    "N = 100\n",
    "a = range(0,100, N)\n",
    "b = randn(N)\n",
    "\n",
    "@btime c = f1(a,b);"
   ]
  },
  {
   "cell_type": "code",
   "execution_count": 19,
   "metadata": {},
   "outputs": [
    {
     "name": "stdout",
     "output_type": "stream",
     "text": [
      "  139.394 ns (0 allocations: 0 bytes)\n"
     ]
    }
   ],
   "source": [
    "function f1!(out, a, b) #a,b->c\n",
    "     out .= a .* b\n",
    "end\n",
    "\n",
    "N = 100\n",
    "a = range(0,100, N)\n",
    "b = randn(N)\n",
    "\n",
    "out = similar(a)\n",
    "@btime f1!(out, a, b);"
   ]
  },
  {
   "cell_type": "code",
   "execution_count": 30,
   "metadata": {},
   "outputs": [
    {
     "ename": "LoadError",
     "evalue": "MethodError: no method matching f3(::Float64, ::Float64)",
     "output_type": "error",
     "traceback": [
      "MethodError: no method matching f3(::Float64, ::Float64)",
      "",
      "Stacktrace:",
      " [1] top-level scope",
      "   @ In[30]:9"
     ]
    }
   ],
   "source": [
    "function f3(a::Vector{Float64}, b::Vector{Float64})\n",
    "    return a .* b\n",
    "end\n",
    "\n",
    "c = f3(1.0, 1.0) #Error "
   ]
  },
  {
   "cell_type": "code",
   "execution_count": 39,
   "metadata": {},
   "outputs": [
    {
     "data": {
      "text/plain": [
       "f (generic function with 1 method)"
      ]
     },
     "execution_count": 39,
     "metadata": {},
     "output_type": "execute_result"
    }
   ],
   "source": [
    "f(x) = sin(1 / x)"
   ]
  },
  {
   "cell_type": "code",
   "execution_count": 42,
   "metadata": {},
   "outputs": [],
   "source": [
    "map(x -> sin(1 / x), randn(3));  # apply function to each element"
   ]
  },
  {
   "cell_type": "code",
   "execution_count": 41,
   "metadata": {},
   "outputs": [
    {
     "data": {
      "text/plain": [
       "f (generic function with 2 methods)"
      ]
     },
     "execution_count": 41,
     "metadata": {},
     "output_type": "execute_result"
    }
   ],
   "source": [
    "f(x, a = 1) = exp(cos(a * x))"
   ]
  },
  {
   "cell_type": "markdown",
   "metadata": {},
   "source": [
    "### Exercises\n",
    "1. Create a function out-place of $f(x,y)=(a-x)^2 + b(y)^2$\n",
    "2. Create a function in-place of $f(x,y)=(a-x)^2 + b(y)^2$\n",
    "3. Create a grid of x and y of dimension N=100 and evaluate the functions. \n",
    "4. Test if the results are the same ($\\approx$) and the performance (@btime and @time). "
   ]
  },
  {
   "cell_type": "markdown",
   "metadata": {},
   "source": [
    "## Loops"
   ]
  },
  {
   "cell_type": "code",
   "execution_count": 43,
   "metadata": {},
   "outputs": [
    {
     "name": "stdout",
     "output_type": "stream",
     "text": [
      "12345678910"
     ]
    }
   ],
   "source": [
    "for i in 1:10\n",
    "    print(i)\n",
    "end\n"
   ]
  },
  {
   "cell_type": "code",
   "execution_count": 44,
   "metadata": {},
   "outputs": [
    {
     "name": "stdout",
     "output_type": "stream",
     "text": [
      "123456789101112131415161718192021222324252627282930313233343536373839404142434445464748495051525354555657585960616263646566676869707172737475767778798081828384858687888990919293949596979899100"
     ]
    }
   ],
   "source": [
    "index = range(1,100)\n",
    "for i in index\n",
    "    print(i)\n",
    "end"
   ]
  },
  {
   "cell_type": "code",
   "execution_count": 51,
   "metadata": {},
   "outputs": [],
   "source": [
    "x = rand(100)\n",
    "k_x = Any[]\n",
    "v_x = Any[]\n",
    "\n",
    "for (k,v) in enumerate(x)\n",
    "    push!(k_x, k)\n",
    "    push!(v_x, v)\n",
    "end"
   ]
  },
  {
   "cell_type": "code",
   "execution_count": 53,
   "metadata": {},
   "outputs": [],
   "source": [
    "# Crear matrices A y B\n",
    "A = rand(100, 10)  # Matriz de 100x10 con valores aleatorios\n",
    "B = rand(10, 100)  # Matriz de 10x100 con valores aleatorios\n",
    "\n",
    "# Multiplicación directa de matrices\n",
    "C1 = A * B;  # Resultado es una matriz de 100x100\n"
   ]
  },
  {
   "cell_type": "code",
   "execution_count": 56,
   "metadata": {},
   "outputs": [
    {
     "data": {
      "text/plain": [
       "true"
      ]
     },
     "execution_count": 56,
     "metadata": {},
     "output_type": "execute_result"
    }
   ],
   "source": [
    "# Inicializar matriz C con ceros\n",
    "C2 = zeros(100, 100)\n",
    "\n",
    "# Multiplicar matrices usando un loop\n",
    "for i in 1:100\n",
    "    for j in 1:100\n",
    "        for k in 1:10\n",
    "            C2[i, j] += A[i, k] * B[k, j]\n",
    "        end\n",
    "    end\n",
    "end\n",
    "\n",
    "C1 ≈ C2"
   ]
  },
  {
   "cell_type": "code",
   "execution_count": null,
   "metadata": {},
   "outputs": [],
   "source": [
    "using Plots\n",
    "# Iterates a function from an initial condition \n",
    "function iterate_map(f, x0, T)\n",
    "    x = zeros(T + 1)\n",
    "    x[1] = x0\n",
    "    for t in 2:(T + 1)\n",
    "        x[t] = f(x[t - 1])\n",
    "    end\n",
    "    return x\n",
    "end\n",
    "\n",
    "function ts_plot(f, x0, T; xlabel = \"t\", label = \"k_t\")\n",
    "    x = iterate_map(f, x0, T)\n",
    "    plot(0:T, x; xlabel, label)\n",
    "    plot!(0:T, x; seriestype = :scatter, mc = :blue, alpha = 0.7, label = nothing)\n",
    "end\n",
    "\n",
    "\n",
    "p = (A = 2, s = 0.3, alpha = 0.3, delta = 0.4, xmin = 0, xmax = 4)\n",
    "g(k; p) = p.A * p.s * k^p.alpha + (1 - p.delta) * k\n",
    "k0 = 0.25\n",
    "ts_plot(k -> g(k; p), k0, 5)"
   ]
  },
  {
   "cell_type": "markdown",
   "metadata": {},
   "source": [
    "## Conditionals\n",
    "\n",
    "Consider the equation $v = p+\\beta v$ where $p,\\beta$ are given, and $v$ is a scalar to solve. \n",
    "\n",
    "*This simple example can be solve like* $v=p/(1-\\beta)$. \n",
    "\n",
    "However, we are going to try $v=f(v):=p+\\beta v$ \n",
    "\n",
    "### While loops"
   ]
  },
  {
   "cell_type": "code",
   "execution_count": 58,
   "metadata": {},
   "outputs": [
    {
     "name": "stdout",
     "output_type": "stream",
     "text": [
      "Fixed point = 9.999999173706609\n",
      "  |f(x) - x| = 9.181037796679448e-8 in 155 iterations\n"
     ]
    },
    {
     "name": "stderr",
     "output_type": "stream",
     "text": [
      "WARNING: using LinearAlgebra.rotate! in module Main conflicts with an existing identifier.\n"
     ]
    }
   ],
   "source": [
    "using LinearAlgebra\n",
    "# poor style\n",
    "p = 1.0 \n",
    "beta = 0.9\n",
    "maxiter = 1000\n",
    "tolerance = 1.0E-7\n",
    "v_iv = 0.8 # initial condition\n",
    "\n",
    "# setup the algorithm\n",
    "v_old = v_iv\n",
    "normdiff = Inf\n",
    "iter = 1\n",
    "while normdiff > tolerance && iter <= maxiter\n",
    "    v_new = p + beta * v_old # the f(v) map\n",
    "    normdiff = norm(v_new - v_old)\n",
    "\n",
    "    # replace and continue\n",
    "    v_old = v_new\n",
    "    iter = iter + 1\n",
    "end\n",
    "println(\"Fixed point = $v_old\n",
    "  |f(x) - x| = $normdiff in $iter iterations\")"
   ]
  },
  {
   "cell_type": "markdown",
   "metadata": {},
   "source": [
    "### For and if"
   ]
  },
  {
   "cell_type": "code",
   "execution_count": 59,
   "metadata": {},
   "outputs": [
    {
     "name": "stdout",
     "output_type": "stream",
     "text": [
      "Fixed point = 9.999999081896231\n",
      "  |f(x) - x| = 9.181037796679448e-8 in 154 iterations\n"
     ]
    }
   ],
   "source": [
    "# setup the algorithm\n",
    "v_old = v_iv\n",
    "normdiff = Inf\n",
    "iter = 1\n",
    "for i in 1:maxiter\n",
    "    v_new = p + beta * v_old # the f(v) map\n",
    "    normdiff = norm(v_new - v_old)\n",
    "    if normdiff < tolerance # check convergence\n",
    "        iter = i\n",
    "        break # converged, exit loop\n",
    "    end\n",
    "    # replace and continue\n",
    "    v_old = v_new\n",
    "end\n",
    "println(\"Fixed point = $v_old\n",
    "  |f(x) - x| = $normdiff in $iter iterations\")"
   ]
  },
  {
   "cell_type": "markdown",
   "metadata": {},
   "source": [
    "## Excercises\n",
    "1. Put the examples in functions, test the performance. \n",
    "2. Check if the functions have the same result and are the same that analytical solution $v=p/(1-\\beta)$"
   ]
  },
  {
   "cell_type": "markdown",
   "metadata": {},
   "source": [
    "## Numerical methods\n",
    "$f(x,y)=(a-x)^2 + b(y-x^2)^2$"
   ]
  },
  {
   "cell_type": "markdown",
   "metadata": {},
   "source": [
    "### Solving non-linear systems"
   ]
  },
  {
   "cell_type": "code",
   "execution_count": null,
   "metadata": {},
   "outputs": [],
   "source": [
    "using NLsolve\n",
    "\n",
    "function f!(F, x)\n",
    "    F[1] = x[1]^2 + 2x[2]^2 - 1\n",
    "    F[2] = 2x[1]^2 + x[2]^2 - 1\n",
    "end\n",
    "\n",
    "x = nlsolve(f!, [ 0.1; 1.2], autodiff = :forward)\n",
    "print(x.zero)"
   ]
  },
  {
   "cell_type": "markdown",
   "metadata": {},
   "source": [
    "### Nonlinear Optimization"
   ]
  },
  {
   "cell_type": "code",
   "execution_count": 62,
   "metadata": {},
   "outputs": [
    {
     "data": {
      "text/plain": [
       " * Status: success\n",
       "\n",
       " * Candidate solution\n",
       "    Final objective value:     3.525527e-09\n",
       "\n",
       " * Found with\n",
       "    Algorithm:     Nelder-Mead\n",
       "\n",
       " * Convergence measures\n",
       "    √(Σ(yᵢ-ȳ)²)/n ≤ 1.0e-08\n",
       "\n",
       " * Work counters\n",
       "    Seconds run:   0  (vs limit Inf)\n",
       "    Iterations:    60\n",
       "    f(x) calls:    117\n"
      ]
     },
     "execution_count": 62,
     "metadata": {},
     "output_type": "execute_result"
    }
   ],
   "source": [
    "using Optim\n",
    "\n",
    "f(x) = (1.0 - x[1])^2 + 100.0 * (x[2] - x[1]^2)^2\n",
    "x_iv = [0.0, 0.0]\n",
    "results = optimize(f, x_iv) # i.e. optimize(f, x_iv, NelderMead())"
   ]
  },
  {
   "cell_type": "code",
   "execution_count": 63,
   "metadata": {},
   "outputs": [
    {
     "data": {
      "text/plain": [
       "retcode: Success\n",
       "u: 2-element Vector{Float64}:\n",
       " 0.9999634355313174\n",
       " 0.9999315506115275"
      ]
     },
     "execution_count": 63,
     "metadata": {},
     "output_type": "execute_result"
    }
   ],
   "source": [
    "using Optimization, OptimizationOptimJL\n",
    "\n",
    "rosenbrock(u,p) =  (p[1] - u[1])^2 + p[2] * (u[2] - u[1]^2)^2\n",
    "u0 = zeros(2)\n",
    "p  = [1.0,100.0]\n",
    "\n",
    "prob = OptimizationProblem(rosenbrock,u0,p)\n",
    "sol = solve(prob,NelderMead())"
   ]
  },
  {
   "cell_type": "markdown",
   "metadata": {},
   "source": [
    "## Exercises\n",
    "1. Compare the results of the three methods\n",
    "2. Plot the 3D plane of f(x,y),x,y. \n",
    "3. Add to the plot the solution of the 3 methods. "
   ]
  },
  {
   "cell_type": "code",
   "execution_count": null,
   "metadata": {},
   "outputs": [],
   "source": []
  }
 ],
 "metadata": {
  "kernelspec": {
   "display_name": "Julia 1.10 1.10.0",
   "language": "julia",
   "name": "julia-1.10-1.10"
  },
  "language_info": {
   "file_extension": ".jl",
   "mimetype": "application/julia",
   "name": "julia",
   "version": "1.10.0"
  }
 },
 "nbformat": 4,
 "nbformat_minor": 2
}
