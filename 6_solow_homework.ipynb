{
 "cells": [
  {
   "cell_type": "markdown",
   "metadata": {},
   "source": [
    "# Homework \n",
    "## General case: technology and demographic change"
   ]
  },
  {
   "cell_type": "markdown",
   "metadata": {},
   "source": [
    "Part 1. Consider a production function $A_tF(K_t,L_t)=A_tK_t^\\alpha L_t^{1-\\alpha}$. With a productivity growth rate of g.This allows us some conveniences for the stationary model. Therefore, the capital motion law is:\n",
    "\n",
    "$$K_{t+1}=(1-\\delta)K_t + sA_tF(K_t,L_t)$$\n",
    "\n",
    "Using $\\frac{A_{t+1}-A_t}{A_t}=g$ and $\\frac{L_{t+1}-L_t}{L_t}=n$ and considering $k_t=\\frac{K_t}{A_tL_t}$\n",
    "1. Derive a theoretical function for $k_{t+1}=g(k_{t})$ where $g(k_{t})$ also depends on $n$ and $g$\n",
    "2. Derive a theoretical function for the steady state of capital such tha $k^*=h(k^*)$ whereh$k^*$ also depends on $n$ and $g$\n",
    "3. Write a function in Julia to determine  $k_{t+1}=g(k_{t})$ for any grid of $k_t$ and any set of coefficients (use the ones in the lectures)\n",
    "4. Write a function in Julia to determine the steady state of $k^*=h(k^*)$. \n",
    "5. Simulate in Julia  $k_{t+1}=g(k_{t})$ and TEST it converges to the value predicted by $h(k^*)$.\n",
    "6. Using  $k_{t+1}=g(k_{t})$ in 3, simulate convergence over time for different values of initial capital $k_0$\n",
    "7. Using  $k_{t+1}=g(k_{t})$ in 3, simulate convergence over time for different values of initial capital $k_0$ assesing the implications of different values of $n$, more specifically, $n=0, n=0.1, n=1$. Explain the intution\n",
    "\n"
   ]
  }
 ],
 "metadata": {
  "kernelspec": {
   "display_name": "Julia 1.10 1.10.0",
   "language": "julia",
   "name": "julia-1.10-1.10"
  },
  "language_info": {
   "name": "julia"
  }
 },
 "nbformat": 4,
 "nbformat_minor": 2
}
